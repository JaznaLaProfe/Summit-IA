{
  "nbformat": 4,
  "nbformat_minor": 0,
  "metadata": {
    "colab": {
      "provenance": []
    },
    "kernelspec": {
      "name": "python3",
      "display_name": "Python 3"
    },
    "language_info": {
      "name": "python"
    }
  },
  "cells": [
    {
      "cell_type": "code",
      "execution_count": null,
      "metadata": {
        "id": "IbIeFWDuWs8l"
      },
      "outputs": [],
      "source": [
        "import keras.utils as image\n",
        "import numpy as np\n",
        "import matplotlib.pyplot as plt\n",
        "\n",
        "from keras.applications.inception_resnet_v2 import InceptionResNetV2, preprocess_input, decode_predictions"
      ]
    },
    {
      "cell_type": "markdown",
      "source": [
        "# Creación de la red"
      ],
      "metadata": {
        "id": "bfmw6gUVkfIZ"
      }
    },
    {
      "cell_type": "code",
      "source": [
        "# Acá vamos a escribir código"
      ],
      "metadata": {
        "id": "3YvRe8jSkhhW"
      },
      "execution_count": null,
      "outputs": []
    },
    {
      "cell_type": "markdown",
      "source": [
        "# Trabajando con la red"
      ],
      "metadata": {
        "id": "TScT1ojT6uBy"
      }
    },
    {
      "cell_type": "code",
      "source": [
        "img_path = 'coloque acá el nombre de la imagen'\n",
        "# Carga la imagen\n",
        "img = image.load_img(img_path, target_size=(299, 299))\n",
        "# Transforma la imagen para que la red la \"acepte\"\n",
        "X = image.img_to_array(img)\n",
        "X = np.expand_dims(X, axis=0)\n",
        "X = preprocess_input(X)\n",
        "# Realiza la predicción\n",
        "preds = model.predict(X)\n",
        "# Muestra la predicción\n",
        "print('Prediction:', decode_predictions(preds, top=3)[0][0])"
      ],
      "metadata": {
        "id": "AUcMp6Hn6yCz"
      },
      "execution_count": null,
      "outputs": []
    },
    {
      "cell_type": "code",
      "source": [
        "# Muestra la imagen junto al resultado de la predicción\n",
        "fig, ax = plt.subplots(1, 1, figsize=(5,5))\n",
        "plt.title(\"\\nPrecisión: {:.2f}\".format(decode_predictions(preds, top=1)[0][0][2]) +\n",
        "                          \"\\n red: \" + decode_predictions(preds, top=1)[0][0][1])\n",
        "ax.set_xticklabels([])\n",
        "ax.set_yticklabels([])\n",
        "plt.grid(False)\n",
        "plt.imshow(img)\n",
        "plt.show()"
      ],
      "metadata": {
        "id": "RYy8u1yC74OU"
      },
      "execution_count": null,
      "outputs": []
    }
  ]
}